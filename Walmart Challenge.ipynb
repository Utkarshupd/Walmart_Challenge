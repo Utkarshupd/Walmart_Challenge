{
  "nbformat": 4,
  "nbformat_minor": 0,
  "metadata": {
    "colab": {
      "name": "CS_1.ipynb",
      "provenance": [],
      "collapsed_sections": [],
      "machine_shape": "hm"
    },
    "kernelspec": {
      "name": "python3",
      "display_name": "Python 3"
    },
    "accelerator": "GPU"
  },
  "cells": [
    {
      "cell_type": "markdown",
      "metadata": {
        "id": "fiX_1wSKLyM_",
        "colab_type": "text"
      },
      "source": [
        "#Walmart Recruiting - Store Sales Forecasting"
      ]
    },
    {
      "cell_type": "markdown",
      "metadata": {
        "id": "JdFOlqdRnpTI",
        "colab_type": "text"
      },
      "source": [
        "#The Problem:\n",
        "\n",
        "One challenge of modeling retail data is the need to make decisions based on limited history. If Christmas comes but once a year, so does the chance to see how strategic decisions impacted the bottom line.\n",
        "\n",
        "We are provided with historical sales data for 45 Walmart stores located in different regions. Each store contains many departments, and participants must project the sales for each department in each store. To add to the challenge, selected holiday markdown events are included in the dataset. These markdowns are known to affect sales, but it is challenging to predict which departments are affected and the extent of the impact.\n",
        "\n",
        "We need to predict the final sales in the week given the features."
      ]
    },
    {
      "cell_type": "markdown",
      "metadata": {
        "id": "QhdWoukNn7QY",
        "colab_type": "text"
      },
      "source": [
        "#DATA:\n",
        "\n",
        "You are provided with historical sales data for 45 Walmart stores located in different regions. Each store contains a number of departments, and you are tasked with predicting the department-wide sales for each store.\n",
        "\n",
        "In addition, Walmart runs several promotional markdown events throughout the year. These markdowns precede prominent holidays, the four largest of which are the Super Bowl, Labor Day, Thanksgiving, and Christmas. The weeks including these holidays are weighted five times higher in the evaluation than non-holiday weeks. Part of the challenge presented by this competition is modeling the effects of markdowns on these holiday weeks in the absence of complete/ideal historical data.\n",
        "\n",
        "stores.csv\n",
        "\n",
        "This file contains anonymized information about the 45 stores, indicating the type and size of store.\n",
        "\n",
        "train.csv\n",
        "\n",
        "This is the historical training data, which covers to 2010-02-05 to 2012-11-01. Within this file you will find the following fields:\n",
        "\n",
        "Store - the store number\n",
        "Dept - the department number\n",
        "Date - the week\n",
        "Weekly_Sales -  sales for the given department in the given store\n",
        "IsHoliday - whether the week is a special holiday week\n",
        "test.csv\n",
        "\n",
        "This file is identical to train.csv, except we have withheld the weekly sales. You must predict the sales for each triplet of store, department, and date in this file.\n",
        "\n",
        "features.csv\n",
        "\n",
        "This file contains additional data related to the store, department, and regional activity for the given dates. It contains the following fields:\n",
        "\n",
        "Store - the store number\n",
        "Date - the week\n",
        "Temperature - average temperature in the region\n",
        "Fuel_Price - cost of fuel in the region\n",
        "MarkDown1-5 - anonymized data related to promotional markdowns that Walmart is running. MarkDown data is only available after Nov 2011, and is not available for all stores all the time. Any missing value is marked with an NA.\n",
        "CPI - the consumer price index\n",
        "Unemployment - the unemployment rate\n",
        "IsHoliday - whether the week is a special holiday week\n",
        "For convenience, the four holidays fall within the following weeks in the dataset (not all holidays are in the data):\n",
        "\n",
        "Super Bowl: 12-Feb-10, 11-Feb-11, 10-Feb-12, 8-Feb-13\n",
        "Labor Day: 10-Sep-10, 9-Sep-11, 7-Sep-12, 6-Sep-13\n",
        "Thanksgiving: 26-Nov-10, 25-Nov-11, 23-Nov-12, 29-Nov-13\n",
        "Christmas: 31-Dec-10, 30-Dec-11, 28-Dec-12, 27-Dec-13"
      ]
    },
    {
      "cell_type": "markdown",
      "metadata": {
        "id": "bflrkwfDohMT",
        "colab_type": "text"
      },
      "source": [
        "#Evaluation Metric:\n",
        "\n",
        "We will use weighted mean absolute error (WMAE) for the evaluation:\n",
        "\n",
        "More on the metric here: \n",
        "\n",
        "https://www.kaggle.com/c/walmart-recruiting-store-sales-forecasting/overview/evaluation"
      ]
    },
    {
      "cell_type": "code",
      "metadata": {
        "id": "SLsZ4mlslnCe",
        "colab_type": "code",
        "colab": {}
      },
      "source": [
        "import pandas as pd\n",
        "import numpy as np\n",
        "import seaborn as sns\n",
        "import pandas as pd\n",
        "import matplotlib.pyplot as plt\n",
        "import numpy as np\n",
        "from sklearn.ensemble import RandomForestRegressor , ExtraTreesRegressor\n",
        "from sklearn.model_selection import train_test_split\n",
        "\n",
        "import pandas_profiling as pdp\n",
        "\n",
        "import warnings\n",
        "warnings.filterwarnings(\"ignore\")\n",
        "%matplotlib inline"
      ],
      "execution_count": 0,
      "outputs": []
    },
    {
      "cell_type": "code",
      "metadata": {
        "id": "knuXR13JGjy1",
        "colab_type": "code",
        "outputId": "fafde215-0c9b-4528-b9ec-948859f69e73",
        "colab": {
          "resources": {
            "http://localhost:8080/nbextensions/google.colab/files.js": {
              "data": "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",
              "ok": true,
              "headers": [
                [
                  "content-type",
                  "application/javascript"
                ]
              ],
              "status": 200,
              "status_text": ""
            }
          },
          "base_uri": "https://localhost:8080/",
          "height": 91
        }
      },
      "source": [
        "from google.colab import files\n",
        "files.upload()"
      ],
      "execution_count": 2,
      "outputs": [
        {
          "output_type": "display_data",
          "data": {
            "text/html": [
              "\n",
              "     <input type=\"file\" id=\"files-44470bd8-9169-40d7-bdd2-97eeb44634ae\" name=\"files[]\" multiple disabled />\n",
              "     <output id=\"result-44470bd8-9169-40d7-bdd2-97eeb44634ae\">\n",
              "      Upload widget is only available when the cell has been executed in the\n",
              "      current browser session. Please rerun this cell to enable.\n",
              "      </output>\n",
              "      <script src=\"/nbextensions/google.colab/files.js\"></script> "
            ],
            "text/plain": [
              "<IPython.core.display.HTML object>"
            ]
          },
          "metadata": {
            "tags": []
          }
        },
        {
          "output_type": "stream",
          "text": [
            "Saving kaggle.json to kaggle.json\n"
          ],
          "name": "stdout"
        },
        {
          "output_type": "execute_result",
          "data": {
            "text/plain": [
              "{'kaggle.json': b'{\"username\":\"utkarshpd\",\"key\":\"f93925c772ca6d01a26796ec0bef5c9a\"}'}"
            ]
          },
          "metadata": {
            "tags": []
          },
          "execution_count": 2
        }
      ]
    },
    {
      "cell_type": "code",
      "metadata": {
        "id": "-TMMKFTEGz16",
        "colab_type": "code",
        "colab": {}
      },
      "source": [
        "!mkdir ~/.kaggle\n",
        "!cp /content/kaggle.json ~/.kaggle/kaggle.json"
      ],
      "execution_count": 0,
      "outputs": []
    },
    {
      "cell_type": "code",
      "metadata": {
        "id": "CQJEY4hVHueV",
        "colab_type": "code",
        "outputId": "ffd0be7f-3f68-4999-ce0b-a021d8ea8cd4",
        "colab": {
          "base_uri": "https://localhost:8080/",
          "height": 306
        }
      },
      "source": [
        "!kaggle competitions download -c walmart-recruiting-store-sales-forecasting"
      ],
      "execution_count": 4,
      "outputs": [
        {
          "output_type": "stream",
          "text": [
            "Warning: Your Kaggle API key is readable by other users on this system! To fix this, you can run 'chmod 600 /root/.kaggle/kaggle.json'\n",
            "Warning: Looks like you're using an outdated API Version, please consider updating (server 1.5.6 / client 1.5.4)\n",
            "Downloading features.csv.zip to /content\n",
            "\r  0% 0.00/158k [00:00<?, ?B/s]\n",
            "\r100% 158k/158k [00:00<00:00, 49.4MB/s]\n",
            "Downloading sampleSubmission.csv.zip to /content\n",
            "\r  0% 0.00/220k [00:00<?, ?B/s]\n",
            "\r100% 220k/220k [00:00<00:00, 72.2MB/s]\n",
            "Downloading stores.csv to /content\n",
            "\r  0% 0.00/532 [00:00<?, ?B/s]\n",
            "100% 532/532 [00:00<00:00, 539kB/s]\n",
            "Downloading test.csv.zip to /content\n",
            "  0% 0.00/235k [00:00<?, ?B/s]\n",
            "100% 235k/235k [00:00<00:00, 76.8MB/s]\n",
            "Downloading train.csv.zip to /content\n",
            "  0% 0.00/2.47M [00:00<?, ?B/s]\n",
            "100% 2.47M/2.47M [00:00<00:00, 81.0MB/s]\n"
          ],
          "name": "stdout"
        }
      ]
    },
    {
      "cell_type": "code",
      "metadata": {
        "id": "K3cfYGTSpAaQ",
        "colab_type": "code",
        "colab": {}
      },
      "source": [
        "#Reading Database \n",
        "train = pd.read_csv('/content/train.csv.zip')\n",
        "feature = pd.read_csv('/content/features.csv.zip')\n",
        "test = pd.read_csv('/content/test.csv.zip')\n",
        "stores = pd.read_csv('/content/stores.csv')\n",
        "sam = pd.read_csv('/content/sampleSubmission.csv.zip')"
      ],
      "execution_count": 0,
      "outputs": []
    },
    {
      "cell_type": "code",
      "metadata": {
        "id": "eTmZlOph49S_",
        "colab_type": "code",
        "colab": {}
      },
      "source": [
        "#Merging information between the data [Train and Test]\n",
        "dfTrainTmp           = pd.merge(train, stores)\n",
        "dfTestTmp            = pd.merge(test, stores)   \n",
        "      \n",
        "#Merging the feature with the data [Train and Test]\n",
        "train                = pd.merge(dfTrainTmp, feature)\n",
        "test                 = pd.merge(dfTestTmp, feature)"
      ],
      "execution_count": 0,
      "outputs": []
    },
    {
      "cell_type": "code",
      "metadata": {
        "id": "woo9uIAw5DNw",
        "colab_type": "code",
        "colab": {}
      },
      "source": [
        "#Split the field Date\n",
        "train['Year']        = pd.to_datetime(train['Date']).dt.year\n",
        "train['Month']       = pd.to_datetime(train['Date']).dt.month\n",
        "train['Day']         = pd.to_datetime(train['Date']).dt.day\n",
        "train['Days']        = train['Month']*30+train['Day'] \n",
        "\n",
        "#Converting type of store to numeric\n",
        "train['Type']        = train['Type'].replace('A',1)\n",
        "train['Type']        = train['Type'].replace('B',2)\n",
        "train['Type']        = train['Type'].replace('C',3)\n",
        "    \n",
        "#Counting the passend days util the holiday\n",
        "train['daysHoliday'] = train['IsHoliday']*train['Days']\n",
        "#Coverting the sales to log scale\n",
        "train['logSales']    = np.log(4990+train['Weekly_Sales'])\n",
        "\n",
        "#Same with test data\n",
        "test['Year']         = pd.to_datetime(test['Date']).dt.year\n",
        "test['Month']        = pd.to_datetime(test['Date']).dt.month\n",
        "test['Day']          = pd.to_datetime(test['Date']).dt.day\n",
        "test['Days']         = test['Month']*30+test['Day']\n",
        "test['Type']         = test['Type'].replace('A',1)\n",
        "test['Type']         = test['Type'].replace('B',2)\n",
        "test['Type']         = test['Type'].replace('C',3)\n",
        "test['daysHoliday']  = test['IsHoliday']*test['Days']"
      ],
      "execution_count": 0,
      "outputs": []
    },
    {
      "cell_type": "code",
      "metadata": {
        "id": "Q_zSj4V1K6bY",
        "colab_type": "code",
        "outputId": "493d47ef-4d74-4d5c-ae71-1ec96e90f3fa",
        "colab": {
          "base_uri": "https://localhost:8080/",
          "height": 419
        }
      },
      "source": [
        "feature.groupby([\"Store\"]).head()"
      ],
      "execution_count": 8,
      "outputs": [
        {
          "output_type": "execute_result",
          "data": {
            "text/html": [
              "<div>\n",
              "<style scoped>\n",
              "    .dataframe tbody tr th:only-of-type {\n",
              "        vertical-align: middle;\n",
              "    }\n",
              "\n",
              "    .dataframe tbody tr th {\n",
              "        vertical-align: top;\n",
              "    }\n",
              "\n",
              "    .dataframe thead th {\n",
              "        text-align: right;\n",
              "    }\n",
              "</style>\n",
              "<table border=\"1\" class=\"dataframe\">\n",
              "  <thead>\n",
              "    <tr style=\"text-align: right;\">\n",
              "      <th></th>\n",
              "      <th>Store</th>\n",
              "      <th>Date</th>\n",
              "      <th>Temperature</th>\n",
              "      <th>Fuel_Price</th>\n",
              "      <th>MarkDown1</th>\n",
              "      <th>MarkDown2</th>\n",
              "      <th>MarkDown3</th>\n",
              "      <th>MarkDown4</th>\n",
              "      <th>MarkDown5</th>\n",
              "      <th>CPI</th>\n",
              "      <th>Unemployment</th>\n",
              "      <th>IsHoliday</th>\n",
              "    </tr>\n",
              "  </thead>\n",
              "  <tbody>\n",
              "    <tr>\n",
              "      <th>0</th>\n",
              "      <td>1</td>\n",
              "      <td>2010-02-05</td>\n",
              "      <td>42.31</td>\n",
              "      <td>2.572</td>\n",
              "      <td>NaN</td>\n",
              "      <td>NaN</td>\n",
              "      <td>NaN</td>\n",
              "      <td>NaN</td>\n",
              "      <td>NaN</td>\n",
              "      <td>211.096358</td>\n",
              "      <td>8.106</td>\n",
              "      <td>False</td>\n",
              "    </tr>\n",
              "    <tr>\n",
              "      <th>1</th>\n",
              "      <td>1</td>\n",
              "      <td>2010-02-12</td>\n",
              "      <td>38.51</td>\n",
              "      <td>2.548</td>\n",
              "      <td>NaN</td>\n",
              "      <td>NaN</td>\n",
              "      <td>NaN</td>\n",
              "      <td>NaN</td>\n",
              "      <td>NaN</td>\n",
              "      <td>211.242170</td>\n",
              "      <td>8.106</td>\n",
              "      <td>True</td>\n",
              "    </tr>\n",
              "    <tr>\n",
              "      <th>2</th>\n",
              "      <td>1</td>\n",
              "      <td>2010-02-19</td>\n",
              "      <td>39.93</td>\n",
              "      <td>2.514</td>\n",
              "      <td>NaN</td>\n",
              "      <td>NaN</td>\n",
              "      <td>NaN</td>\n",
              "      <td>NaN</td>\n",
              "      <td>NaN</td>\n",
              "      <td>211.289143</td>\n",
              "      <td>8.106</td>\n",
              "      <td>False</td>\n",
              "    </tr>\n",
              "    <tr>\n",
              "      <th>3</th>\n",
              "      <td>1</td>\n",
              "      <td>2010-02-26</td>\n",
              "      <td>46.63</td>\n",
              "      <td>2.561</td>\n",
              "      <td>NaN</td>\n",
              "      <td>NaN</td>\n",
              "      <td>NaN</td>\n",
              "      <td>NaN</td>\n",
              "      <td>NaN</td>\n",
              "      <td>211.319643</td>\n",
              "      <td>8.106</td>\n",
              "      <td>False</td>\n",
              "    </tr>\n",
              "    <tr>\n",
              "      <th>4</th>\n",
              "      <td>1</td>\n",
              "      <td>2010-03-05</td>\n",
              "      <td>46.50</td>\n",
              "      <td>2.625</td>\n",
              "      <td>NaN</td>\n",
              "      <td>NaN</td>\n",
              "      <td>NaN</td>\n",
              "      <td>NaN</td>\n",
              "      <td>NaN</td>\n",
              "      <td>211.350143</td>\n",
              "      <td>8.106</td>\n",
              "      <td>False</td>\n",
              "    </tr>\n",
              "    <tr>\n",
              "      <th>...</th>\n",
              "      <td>...</td>\n",
              "      <td>...</td>\n",
              "      <td>...</td>\n",
              "      <td>...</td>\n",
              "      <td>...</td>\n",
              "      <td>...</td>\n",
              "      <td>...</td>\n",
              "      <td>...</td>\n",
              "      <td>...</td>\n",
              "      <td>...</td>\n",
              "      <td>...</td>\n",
              "      <td>...</td>\n",
              "    </tr>\n",
              "    <tr>\n",
              "      <th>8008</th>\n",
              "      <td>45</td>\n",
              "      <td>2010-02-05</td>\n",
              "      <td>27.31</td>\n",
              "      <td>2.784</td>\n",
              "      <td>NaN</td>\n",
              "      <td>NaN</td>\n",
              "      <td>NaN</td>\n",
              "      <td>NaN</td>\n",
              "      <td>NaN</td>\n",
              "      <td>181.871190</td>\n",
              "      <td>8.992</td>\n",
              "      <td>False</td>\n",
              "    </tr>\n",
              "    <tr>\n",
              "      <th>8009</th>\n",
              "      <td>45</td>\n",
              "      <td>2010-02-12</td>\n",
              "      <td>27.73</td>\n",
              "      <td>2.773</td>\n",
              "      <td>NaN</td>\n",
              "      <td>NaN</td>\n",
              "      <td>NaN</td>\n",
              "      <td>NaN</td>\n",
              "      <td>NaN</td>\n",
              "      <td>181.982317</td>\n",
              "      <td>8.992</td>\n",
              "      <td>True</td>\n",
              "    </tr>\n",
              "    <tr>\n",
              "      <th>8010</th>\n",
              "      <td>45</td>\n",
              "      <td>2010-02-19</td>\n",
              "      <td>31.27</td>\n",
              "      <td>2.745</td>\n",
              "      <td>NaN</td>\n",
              "      <td>NaN</td>\n",
              "      <td>NaN</td>\n",
              "      <td>NaN</td>\n",
              "      <td>NaN</td>\n",
              "      <td>182.034782</td>\n",
              "      <td>8.992</td>\n",
              "      <td>False</td>\n",
              "    </tr>\n",
              "    <tr>\n",
              "      <th>8011</th>\n",
              "      <td>45</td>\n",
              "      <td>2010-02-26</td>\n",
              "      <td>34.89</td>\n",
              "      <td>2.754</td>\n",
              "      <td>NaN</td>\n",
              "      <td>NaN</td>\n",
              "      <td>NaN</td>\n",
              "      <td>NaN</td>\n",
              "      <td>NaN</td>\n",
              "      <td>182.077469</td>\n",
              "      <td>8.992</td>\n",
              "      <td>False</td>\n",
              "    </tr>\n",
              "    <tr>\n",
              "      <th>8012</th>\n",
              "      <td>45</td>\n",
              "      <td>2010-03-05</td>\n",
              "      <td>37.13</td>\n",
              "      <td>2.777</td>\n",
              "      <td>NaN</td>\n",
              "      <td>NaN</td>\n",
              "      <td>NaN</td>\n",
              "      <td>NaN</td>\n",
              "      <td>NaN</td>\n",
              "      <td>182.120157</td>\n",
              "      <td>8.992</td>\n",
              "      <td>False</td>\n",
              "    </tr>\n",
              "  </tbody>\n",
              "</table>\n",
              "<p>225 rows × 12 columns</p>\n",
              "</div>"
            ],
            "text/plain": [
              "      Store        Date  Temperature  ...         CPI  Unemployment  IsHoliday\n",
              "0         1  2010-02-05        42.31  ...  211.096358         8.106      False\n",
              "1         1  2010-02-12        38.51  ...  211.242170         8.106       True\n",
              "2         1  2010-02-19        39.93  ...  211.289143         8.106      False\n",
              "3         1  2010-02-26        46.63  ...  211.319643         8.106      False\n",
              "4         1  2010-03-05        46.50  ...  211.350143         8.106      False\n",
              "...     ...         ...          ...  ...         ...           ...        ...\n",
              "8008     45  2010-02-05        27.31  ...  181.871190         8.992      False\n",
              "8009     45  2010-02-12        27.73  ...  181.982317         8.992       True\n",
              "8010     45  2010-02-19        31.27  ...  182.034782         8.992      False\n",
              "8011     45  2010-02-26        34.89  ...  182.077469         8.992      False\n",
              "8012     45  2010-03-05        37.13  ...  182.120157         8.992      False\n",
              "\n",
              "[225 rows x 12 columns]"
            ]
          },
          "metadata": {
            "tags": []
          },
          "execution_count": 8
        }
      ]
    },
    {
      "cell_type": "markdown",
      "metadata": {
        "id": "RQ0ObvsqkCnM",
        "colab_type": "text"
      },
      "source": [
        "#EDA"
      ]
    },
    {
      "cell_type": "markdown",
      "metadata": {
        "id": "XcfsJs3w_umx",
        "colab_type": "text"
      },
      "source": [
        "####https://www.kaggle.com/yepp2411/walmart-prediction-1-eda-with-time-and-space"
      ]
    },
    {
      "cell_type": "code",
      "metadata": {
        "id": "xx0OnSCPkHA4",
        "colab_type": "code",
        "outputId": "91ba9ab3-293c-408a-e1d9-cfd30fd7bcd0",
        "colab": {
          "base_uri": "https://localhost:8080/",
          "height": 701
        }
      },
      "source": [
        "grouped=stores.groupby('Type')\n",
        "print(grouped.describe()['Size'].round(2))\n",
        "plt.style.use('ggplot')\n",
        "labels=['A store','B store','C store']\n",
        "sizes=grouped.describe()['Size'].round(1)\n",
        "sizes=[(22/(17+6+22))*100,(17/(17+6+22))*100,(6/(17+6+22))*100] # convert to the proportion\n",
        "\n",
        "\n",
        "fig, axes = plt.subplots(1,1, figsize=(10,10))\n",
        "\n",
        "wprops={'edgecolor':'black',\n",
        "      'linewidth':2}\n",
        "\n",
        "tprops = {'fontsize':30}\n",
        "\n",
        "\n",
        "axes.pie(sizes,\n",
        "        labels=labels,\n",
        "        explode=(0.02,0,0),\n",
        "        autopct='%1.1f%%',\n",
        "        pctdistance=0.6,\n",
        "        labeldistance=1.2,\n",
        "        wedgeprops=wprops,\n",
        "        textprops=tprops,\n",
        "        radius=0.8,\n",
        "        center=(0.5,0.5))\n",
        "plt.show()"
      ],
      "execution_count": 0,
      "outputs": [
        {
          "output_type": "stream",
          "text": [
            "      count       mean       std  ...       50%       75%       max\n",
            "Type                              ...                              \n",
            "A      22.0  177247.73  49392.62  ...  202406.0  203819.0  219622.0\n",
            "B      17.0  101190.71  32371.14  ...  114533.0  123737.0  140167.0\n",
            "C       6.0   40541.67   1304.15  ...   39910.0   40774.0   42988.0\n",
            "\n",
            "[3 rows x 8 columns]\n"
          ],
          "name": "stdout"
        },
        {
          "output_type": "display_data",
          "data": {
            "image/png": "[encoded data removed]",
            "text/plain": [
              "<Figure size 720x720 with 1 Axes>"
            ]
          },
          "metadata": {
            "tags": []
          }
        }
      ]
    },
    {
      "cell_type": "markdown",
      "metadata": {
        "id": "_pBxWsDN9uY9",
        "colab_type": "text"
      },
      "source": [
        "**Type A stores are the maximum among the three and Type C is the minimum.**"
      ]
    },
    {
      "cell_type": "code",
      "metadata": {
        "id": "EE84A4sXkn6-",
        "colab_type": "code",
        "outputId": "c885505c-f092-47ed-8ad7-5e73a6939fdd",
        "colab": {
          "base_uri": "https://localhost:8080/",
          "height": 395
        }
      },
      "source": [
        "data = pd.concat([stores['Type'], stores['Size']], axis=1)\n",
        "f, ax = plt.subplots(figsize=(8, 6))\n",
        "fig = sns.boxplot(x='Type', y='Size', data=data)"
      ],
      "execution_count": 0,
      "outputs": [
        {
          "output_type": "display_data",
          "data": {
            "image/png": "[encoded data removed]",
            "text/plain": [
              "<Figure size 576x432 with 1 Axes>"
            ]
          },
          "metadata": {
            "tags": []
          }
        }
      ]
    },
    {
      "cell_type": "markdown",
      "metadata": {
        "id": "9Iz1DAtU-r0M",
        "colab_type": "text"
      },
      "source": [
        "**we can infer that type A store is the largest store and C is the smallest in sizes**\n",
        "\n",
        "**There is no overlapped area in size among A, B, and C.**"
      ]
    },
    {
      "cell_type": "code",
      "metadata": {
        "id": "YCOzPWOhlDdr",
        "colab_type": "code",
        "outputId": "8105b8f4-6912-4cb9-d56f-e13fc1279e9b",
        "colab": {
          "base_uri": "https://localhost:8080/",
          "height": 395
        }
      },
      "source": [
        "data = pd.concat([train['Type'], train['Weekly_Sales']], axis=1)\n",
        "f, ax = plt.subplots(figsize=(8, 6))\n",
        "fig = sns.boxplot(x='Type', y='Weekly_Sales', data=data, showfliers=False)"
      ],
      "execution_count": 0,
      "outputs": [
        {
          "output_type": "display_data",
          "data": {
            "image/png": "[encoded data removed]",
            "text/plain": [
              "<Figure size 576x432 with 1 Axes>"
            ]
          },
          "metadata": {
            "tags": []
          }
        }
      ]
    },
    {
      "cell_type": "markdown",
      "metadata": {
        "id": "Bkp-3o6d-54L",
        "colab_type": "text"
      },
      "source": [
        "**Type A stores has highest Weekly Sales as comapred to other stores.**\n",
        "\n",
        "**That means stores with more sizes have higher sales record**"
      ]
    },
    {
      "cell_type": "code",
      "metadata": {
        "id": "KBrizQvalZKM",
        "colab_type": "code",
        "outputId": "53c29f4d-21cf-48e1-e0c9-4b6d73218676",
        "colab": {
          "base_uri": "https://localhost:8080/",
          "height": 523
        }
      },
      "source": [
        "data = pd.concat([train['Store'], train['Weekly_Sales'], train['IsHoliday']], axis=1)\n",
        "f, ax = plt.subplots(figsize=(25, 8))\n",
        "fig = sns.boxplot(x='Store', y='Weekly_Sales', data=data, showfliers=False, hue=\"IsHoliday\")"
      ],
      "execution_count": 0,
      "outputs": [
        {
          "output_type": "display_data",
          "data": {
            "image/png": "[encoded data removed]",
            "text/plain": [
              "<Figure size 1800x576 with 1 Axes>"
            ]
          },
          "metadata": {
            "tags": []
          }
        }
      ]
    },
    {
      "cell_type": "markdown",
      "metadata": {
        "id": "bI7Vq4nd_H4h",
        "colab_type": "text"
      },
      "source": [
        "**Holiday and Store do not show significant relations but just small higher sales soaring when hoiliday.**"
      ]
    },
    {
      "cell_type": "code",
      "metadata": {
        "id": "f3dJvyjJm6DD",
        "colab_type": "code",
        "outputId": "ce7c8c86-36a6-4398-9a18-1ede49b5779b",
        "colab": {
          "base_uri": "https://localhost:8080/",
          "height": 395
        }
      },
      "source": [
        "data = pd.concat([train['Month'], train['Weekly_Sales']], axis=1)\n",
        "f, ax = plt.subplots(figsize=(8, 6))\n",
        "fig = sns.boxplot(x='Month', y=\"Weekly_Sales\", data=data, showfliers=False)"
      ],
      "execution_count": 0,
      "outputs": [
        {
          "output_type": "display_data",
          "data": {
            "image/png": "[encoded data removed]",
            "text/plain": [
              "<Figure size 576x432 with 1 Axes>"
            ]
          },
          "metadata": {
            "tags": []
          }
        }
      ]
    },
    {
      "cell_type": "markdown",
      "metadata": {
        "id": "Rot28KUY_Z-E",
        "colab_type": "text"
      },
      "source": [
        "**Not much affect of months on Weekly Sales**"
      ]
    },
    {
      "cell_type": "code",
      "metadata": {
        "id": "44MOpLXunF3k",
        "colab_type": "code",
        "outputId": "b0c565a4-083e-4c92-bc8e-51f9400c12a0",
        "colab": {
          "base_uri": "https://localhost:8080/",
          "height": 412
        }
      },
      "source": [
        "f, ax = plt.subplots(figsize=(8, 6))\n",
        "sns.distplot(train['Weekly_Sales'])"
      ],
      "execution_count": 0,
      "outputs": [
        {
          "output_type": "execute_result",
          "data": {
            "text/plain": [
              "<matplotlib.axes._subplots.AxesSubplot at 0x7ff6de1cdac8>"
            ]
          },
          "metadata": {
            "tags": []
          },
          "execution_count": 13
        },
        {
          "output_type": "display_data",
          "data": {
            "image/png": "[encoded data removed]",
            "text/plain": [
              "<Figure size 576x432 with 1 Axes>"
            ]
          },
          "metadata": {
            "tags": []
          }
        }
      ]
    },
    {
      "cell_type": "markdown",
      "metadata": {
        "id": "yXsnF8GB_hot",
        "colab_type": "text"
      },
      "source": [
        "**PDF of Weekly Sales is very much skewed.**"
      ]
    },
    {
      "cell_type": "code",
      "metadata": {
        "id": "gboXaO7oKp-5",
        "colab_type": "code",
        "colab": {}
      },
      "source": [
        "#Dropping markdown data as most of it is null\n",
        "train                = train.drop(['CPI','Unemployment','Date',\n",
        "                                       'MarkDown1','MarkDown2','MarkDown3', \n",
        "                                       'MarkDown4','MarkDown5','Weekly_Sales'],axis=1)\n",
        "                                       \n",
        "test                 = test.drop(['CPI','Unemployment','Date',\n",
        "                                      'MarkDown1','MarkDown2','MarkDown3',\n",
        "                                      'MarkDown4','MarkDown5'],axis=1)"
      ],
      "execution_count": 0,
      "outputs": []
    },
    {
      "cell_type": "code",
      "metadata": {
        "id": "R3RTW63gJA1d",
        "colab_type": "code",
        "outputId": "19251fad-063b-4166-8689-7771aded1eb8",
        "colab": {
          "base_uri": "https://localhost:8080/",
          "height": 204
        }
      },
      "source": [
        "train.head()"
      ],
      "execution_count": 10,
      "outputs": [
        {
          "output_type": "execute_result",
          "data": {
            "text/html": [
              "<div>\n",
              "<style scoped>\n",
              "    .dataframe tbody tr th:only-of-type {\n",
              "        vertical-align: middle;\n",
              "    }\n",
              "\n",
              "    .dataframe tbody tr th {\n",
              "        vertical-align: top;\n",
              "    }\n",
              "\n",
              "    .dataframe thead th {\n",
              "        text-align: right;\n",
              "    }\n",
              "</style>\n",
              "<table border=\"1\" class=\"dataframe\">\n",
              "  <thead>\n",
              "    <tr style=\"text-align: right;\">\n",
              "      <th></th>\n",
              "      <th>Store</th>\n",
              "      <th>Dept</th>\n",
              "      <th>IsHoliday</th>\n",
              "      <th>Type</th>\n",
              "      <th>Size</th>\n",
              "      <th>Temperature</th>\n",
              "      <th>Fuel_Price</th>\n",
              "      <th>Year</th>\n",
              "      <th>Month</th>\n",
              "      <th>Day</th>\n",
              "      <th>Days</th>\n",
              "      <th>daysHoliday</th>\n",
              "      <th>logSales</th>\n",
              "    </tr>\n",
              "  </thead>\n",
              "  <tbody>\n",
              "    <tr>\n",
              "      <th>0</th>\n",
              "      <td>1</td>\n",
              "      <td>1</td>\n",
              "      <td>False</td>\n",
              "      <td>1</td>\n",
              "      <td>151315</td>\n",
              "      <td>42.31</td>\n",
              "      <td>2.572</td>\n",
              "      <td>2010</td>\n",
              "      <td>2</td>\n",
              "      <td>5</td>\n",
              "      <td>65</td>\n",
              "      <td>0</td>\n",
              "      <td>10.306099</td>\n",
              "    </tr>\n",
              "    <tr>\n",
              "      <th>1</th>\n",
              "      <td>1</td>\n",
              "      <td>2</td>\n",
              "      <td>False</td>\n",
              "      <td>1</td>\n",
              "      <td>151315</td>\n",
              "      <td>42.31</td>\n",
              "      <td>2.572</td>\n",
              "      <td>2010</td>\n",
              "      <td>2</td>\n",
              "      <td>5</td>\n",
              "      <td>65</td>\n",
              "      <td>0</td>\n",
              "      <td>10.925853</td>\n",
              "    </tr>\n",
              "    <tr>\n",
              "      <th>2</th>\n",
              "      <td>1</td>\n",
              "      <td>3</td>\n",
              "      <td>False</td>\n",
              "      <td>1</td>\n",
              "      <td>151315</td>\n",
              "      <td>42.31</td>\n",
              "      <td>2.572</td>\n",
              "      <td>2010</td>\n",
              "      <td>2</td>\n",
              "      <td>5</td>\n",
              "      <td>65</td>\n",
              "      <td>0</td>\n",
              "      <td>9.837888</td>\n",
              "    </tr>\n",
              "    <tr>\n",
              "      <th>3</th>\n",
              "      <td>1</td>\n",
              "      <td>4</td>\n",
              "      <td>False</td>\n",
              "      <td>1</td>\n",
              "      <td>151315</td>\n",
              "      <td>42.31</td>\n",
              "      <td>2.572</td>\n",
              "      <td>2010</td>\n",
              "      <td>2</td>\n",
              "      <td>5</td>\n",
              "      <td>65</td>\n",
              "      <td>0</td>\n",
              "      <td>10.713173</td>\n",
              "    </tr>\n",
              "    <tr>\n",
              "      <th>4</th>\n",
              "      <td>1</td>\n",
              "      <td>5</td>\n",
              "      <td>False</td>\n",
              "      <td>1</td>\n",
              "      <td>151315</td>\n",
              "      <td>42.31</td>\n",
              "      <td>2.572</td>\n",
              "      <td>2010</td>\n",
              "      <td>2</td>\n",
              "      <td>5</td>\n",
              "      <td>65</td>\n",
              "      <td>0</td>\n",
              "      <td>10.524585</td>\n",
              "    </tr>\n",
              "  </tbody>\n",
              "</table>\n",
              "</div>"
            ],
            "text/plain": [
              "   Store  Dept  IsHoliday  Type  ...  Day  Days  daysHoliday   logSales\n",
              "0      1     1      False     1  ...    5    65            0  10.306099\n",
              "1      1     2      False     1  ...    5    65            0  10.925853\n",
              "2      1     3      False     1  ...    5    65            0   9.837888\n",
              "3      1     4      False     1  ...    5    65            0  10.713173\n",
              "4      1     5      False     1  ...    5    65            0  10.524585\n",
              "\n",
              "[5 rows x 13 columns]"
            ]
          },
          "metadata": {
            "tags": []
          },
          "execution_count": 10
        }
      ]
    },
    {
      "cell_type": "markdown",
      "metadata": {
        "id": "1FQscsjZ__2T",
        "colab_type": "text"
      },
      "source": [
        "## Random Forest Regressor."
      ]
    },
    {
      "cell_type": "code",
      "metadata": {
        "id": "Ac3r3Zz-PPEZ",
        "colab_type": "code",
        "colab": {}
      },
      "source": [
        "#https://github.com/leandromferreira/Kaggle-Walmart-Recruiting-Store-Sales-Forecasting\n",
        "\n",
        "rf    = RandomForestRegressor(n_estimators=1500,min_samples_split=2,n_jobs=4)\n",
        "#The file which contains sales for test data\n",
        "result = open('result.csv','w')\n",
        "result.write('Id,Weekly_Sales\\n')\n",
        "size = sam['Id'].count() #test size\n",
        "i=0;\n",
        "\n",
        "#Here for every row in sample file i.e for every dept store data we will fit our model separetly and predict sales.\n",
        "while (i < size):\n",
        "\n",
        "       Id           = sam['Id'][i]\n",
        "       tmpStr       = Id.split('_')\n",
        "       Store        = int(tmpStr[0])\t\t\t\t                #Store ID\n",
        "       Dept         = int(tmpStr[1])\t\t\t\t                #Dept ID \n",
        "       dataF1       = train.loc[train['Dept']==Dept]\t\t\t\t#Get the data from Dept  ID from all data\n",
        "       tmpDf        = dataF1.loc[dataF1['Store']==Store]\t\t\t#Get the data form Store ID from the filtring data \n",
        "       store_cnt        = tmpDf['Store'].count()\n",
        "       dept_cnt\t    = dataF1['Dept'].count()\t\n",
        "       tmpF         = dataF1.loc[train['IsHoliday']==1]\n",
        "       dataF1       = pd.concat([dataF1,tmpF*4])\t\t          \t#Reforcing holiday data\n",
        "       dataF2       = dataF1.loc[dataF1['Store']==Store]      \t\t#Filtring \n",
        "       testF1       = test.loc[test['Dept']==Dept]\t\t      \t\t\n",
        "       testF1       = testF1.loc[testF1['Store']==Store]\n",
        "       testRows     = testF1['Store'].count()\n",
        "       k            = i + testRows\n",
        "\t\t\n",
        "       if (store_cnt < 10) and (dept_cnt!=0): #When the number of dataframe stores is too small RF fails then we will only work with department data\n",
        "          y=np.asarray(dataF1['logSales'], dtype=\"|S6\")\n",
        "          X_train, X_test, y_train, y_test = train_test_split(dataF1.drop(['logSales'],axis=1),y)       \n",
        "          \n",
        "          trained_model  = rf.fit(dataF1.drop(['logSales'],axis=1),np.asarray(dataF1['logSales'],dtype=float))\n",
        "       else:\n",
        "\n",
        "          y=np.asarray(dataF2['logSales'], dtype=\"|S6\")\n",
        "          X_train, X_test, y_train, y_test = train_test_split(dataF2.drop(['logSales'],axis=1),y)          \n",
        "          trained_model  = rf.fit(dataF2.drop(['logSales'],axis=1),np.asarray(dataF2['logSales'],dtype=float))\n",
        "          \n",
        "       tmpP_RF_Submiss      = ( np.exp(pd.to_numeric(trained_model.predict(testF1))) - 4990 )\n",
        "      \n",
        "       for j in range(i,k):                               \n",
        "           result.write('%s,%s\\n'%(sam['Id'][j],tmpP_RF_Submiss[j-i]))\n",
        "       i+=testRows       \n",
        "       print (i)\n",
        "result.close()\n"
      ],
      "execution_count": 0,
      "outputs": []
    },
    {
      "cell_type": "markdown",
      "metadata": {
        "id": "NvO0wRJqbn-S",
        "colab_type": "text"
      },
      "source": [
        "## Extra Tree Regressor."
      ]
    },
    {
      "cell_type": "code",
      "metadata": {
        "colab_type": "code",
        "id": "G5cn65VoLnBp",
        "colab": {}
      },
      "source": [
        "#https://github.com/leandromferreira/Kaggle-Walmart-Recruiting-Store-Sales-Forecasting\n",
        "\n",
        "etr = ExtraTreesRegressor(n_estimators=1000, verbose=0, n_jobs=4)\n",
        "\n",
        "#The file which contains sales for test data\n",
        "result = open('result_etr.csv','w')\n",
        "result.write('Id,Weekly_Sales\\n')\n",
        "size = sam['Id'].count() #test size\n",
        "i=0;\n",
        "\n",
        "#Here for every row in sample file i.e for every dept store data we will fit our model separetly and predict sales.\n",
        "while (i < size):\n",
        "\n",
        "       Id           = sam['Id'][i]\n",
        "       tmpStr       = Id.split('_')\n",
        "       Store        = int(tmpStr[0])\t\t\t\t                #Store ID\n",
        "       Dept         = int(tmpStr[1])\t\t\t\t                #Dept ID \n",
        "       dataF1       = train.loc[train['Dept']==Dept]\t\t\t\t#Get the data from Dept  ID from all data\n",
        "       tmpDf        = dataF1.loc[dataF1['Store']==Store]\t\t\t#Get the data form Store ID from the filtring data \n",
        "       store_cnt        = tmpDf['Store'].count()\n",
        "       dept_cnt\t    = dataF1['Dept'].count()\t\n",
        "       tmpF         = dataF1.loc[train['IsHoliday']==1]\n",
        "       dataF1       = pd.concat([dataF1,tmpF*4])\t\t          \t#Reforcing holiday data\n",
        "       dataF2       = dataF1.loc[dataF1['Store']==Store]      \t\t#Filtring \n",
        "       testF1       = test.loc[test['Dept']==Dept]\t\t      \t\t\n",
        "       testF1       = testF1.loc[testF1['Store']==Store]\n",
        "       testRows     = testF1['Store'].count()\n",
        "       k            = i + testRows\n",
        "\t\t\n",
        "       if (store_cnt < 10) and (dept_cnt!=0): #When the number of dataframe stores is too small RF fails then we will only work with department data\n",
        "          y=np.asarray(dataF1['logSales'], dtype=\"|S6\")\n",
        "          X_train, X_test, y_train, y_test = train_test_split(dataF1.drop(['logSales'],axis=1),y)       \n",
        "          \n",
        "          trained_model  = etr.fit(dataF1.drop(['logSales'],axis=1),np.asarray(dataF1['logSales'],dtype=float))\n",
        "       else:\n",
        "\n",
        "          y=np.asarray(dataF2['logSales'], dtype=\"|S6\")\n",
        "          X_train, X_test, y_train, y_test = train_test_split(dataF2.drop(['logSales'],axis=1),y)          \n",
        "          trained_model  = etr.fit(dataF2.drop(['logSales'],axis=1),np.asarray(dataF2['logSales'],dtype=float))\n",
        "          \n",
        "       tmpP_RF_Submiss      = ( np.exp(pd.to_numeric(trained_model.predict(testF1))) - 4990 )\n",
        "      \n",
        "       for j in range(i,k):                               \n",
        "           result.write('%s,%s\\n'%(sam['Id'][j],tmpP_RF_Submiss[j-i]))\n",
        "       i+=testRows       \n",
        "       print (i)\n",
        "result.close()\n"
      ],
      "execution_count": 0,
      "outputs": []
    },
    {
      "cell_type": "code",
      "metadata": {
        "id": "VxHzj-tdhFlu",
        "colab_type": "code",
        "colab": {}
      },
      "source": [
        "sam1=pd.read_csv('/content/result_etr.csv')\n",
        "sam2=pd.read_csv('/content/result.csv')"
      ],
      "execution_count": 0,
      "outputs": []
    },
    {
      "cell_type": "code",
      "metadata": {
        "id": "31WBb5TLn0h4",
        "colab_type": "code",
        "colab": {}
      },
      "source": [
        "sampleSubmission=pd.read_csv('/content/sampleSubmission.csv.zip')\n",
        "sampleSubmission['Weekly_Sales']=0.7*sam1.Weekly_Sales+0.3*sam2.Weekly_Sales"
      ],
      "execution_count": 0,
      "outputs": []
    },
    {
      "cell_type": "code",
      "metadata": {
        "id": "SeiuGDetoVCo",
        "colab_type": "code",
        "colab": {}
      },
      "source": [
        "sampleSubmission.to_csv('final.csv',index=False)"
      ],
      "execution_count": 0,
      "outputs": []
    },
    {
      "cell_type": "code",
      "metadata": {
        "id": "sJDxeXC98Awd",
        "colab_type": "code",
        "outputId": "055aeaef-78b8-493d-f494-9df26316cc25",
        "colab": {
          "base_uri": "https://localhost:8080/",
          "height": 204
        }
      },
      "source": [
        "sampleSubmission.head()"
      ],
      "execution_count": 32,
      "outputs": [
        {
          "output_type": "execute_result",
          "data": {
            "text/html": [
              "<div>\n",
              "<style scoped>\n",
              "    .dataframe tbody tr th:only-of-type {\n",
              "        vertical-align: middle;\n",
              "    }\n",
              "\n",
              "    .dataframe tbody tr th {\n",
              "        vertical-align: top;\n",
              "    }\n",
              "\n",
              "    .dataframe thead th {\n",
              "        text-align: right;\n",
              "    }\n",
              "</style>\n",
              "<table border=\"1\" class=\"dataframe\">\n",
              "  <thead>\n",
              "    <tr style=\"text-align: right;\">\n",
              "      <th></th>\n",
              "      <th>Id</th>\n",
              "      <th>Weekly_Sales</th>\n",
              "    </tr>\n",
              "  </thead>\n",
              "  <tbody>\n",
              "    <tr>\n",
              "      <th>0</th>\n",
              "      <td>1_1_2012-11-02</td>\n",
              "      <td>34502.625217</td>\n",
              "    </tr>\n",
              "    <tr>\n",
              "      <th>1</th>\n",
              "      <td>1_1_2012-11-09</td>\n",
              "      <td>22044.460868</td>\n",
              "    </tr>\n",
              "    <tr>\n",
              "      <th>2</th>\n",
              "      <td>1_1_2012-11-16</td>\n",
              "      <td>24519.970368</td>\n",
              "    </tr>\n",
              "    <tr>\n",
              "      <th>3</th>\n",
              "      <td>1_1_2012-11-23</td>\n",
              "      <td>22703.645054</td>\n",
              "    </tr>\n",
              "    <tr>\n",
              "      <th>4</th>\n",
              "      <td>1_1_2012-11-30</td>\n",
              "      <td>26838.565374</td>\n",
              "    </tr>\n",
              "  </tbody>\n",
              "</table>\n",
              "</div>"
            ],
            "text/plain": [
              "               Id  Weekly_Sales\n",
              "0  1_1_2012-11-02  34502.625217\n",
              "1  1_1_2012-11-09  22044.460868\n",
              "2  1_1_2012-11-16  24519.970368\n",
              "3  1_1_2012-11-23  22703.645054\n",
              "4  1_1_2012-11-30  26838.565374"
            ]
          },
          "metadata": {
            "tags": []
          },
          "execution_count": 32
        }
      ]
    },
    {
      "cell_type": "markdown",
      "metadata": {
        "id": "GxNQyqgJbw2R",
        "colab_type": "text"
      },
      "source": [
        "#Conclusions:\n",
        "\n",
        "\n",
        "\n",
        "```\n",
        "The most important Features are days, year, isHoliday, Store, Dept.\n",
        "```\n",
        "\n",
        "```\n",
        "Using only store dept and previous year sales we can build the model which can give good score.\n",
        "```\n",
        "\n",
        "\n",
        "```\n",
        "Tree based methods like RandomForest And Extra Trees Regressor were used to predict sales.\n",
        "```\n",
        "\n",
        "\n",
        "```\n",
        "Both base models alone gave public score below 2800 on LB.\n",
        "```\n",
        "\n",
        "\n",
        "```\n",
        "Finally both the model results were combined using weightage average to reduce score further.\n",
        "Finaly achieved score is 2732 and 2882 on public and private LB respectively.\n",
        "```\n",
        "\n",
        "\n",
        "\n",
        "\n"
      ]
    }
  ]
}